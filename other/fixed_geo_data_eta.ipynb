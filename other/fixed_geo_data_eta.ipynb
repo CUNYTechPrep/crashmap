{
 "cells": [
  {
   "cell_type": "markdown",
   "metadata": {},
   "source": [
    "# New York City H3 Cells"
   ]
  },
  {
   "cell_type": "markdown",
   "metadata": {},
   "source": [
    "## Packages and Utility Functions"
   ]
  },
  {
   "cell_type": "code",
   "execution_count": null,
   "metadata": {},
   "outputs": [],
   "source": [
    "from functools import partial\n",
    "from itertools import chain, count\n",
    "from toolz import compose_left as compose, do, juxt\n",
    "from html import escape\n",
    "from IPython.display import display, display_html\n",
    "import h3\n",
    "import numpy as np\n",
    "import pandas as pd\n",
    "import shapely\n",
    "from shapely.geometry import Polygon, MultiPolygon, Point\n",
    "import geopandas as gpd\n",
    "import h3pandas\n",
    "import altair as alt\n",
    "import gpdvega\n",
    "import folium\n",
    "import random\n",
    "\n",
    "display_html = partial(display_html, raw=True)\n",
    "\n",
    "def load_geocsv(filepath_or_buffer, index_col, geo_col):\n",
    "    df = pd.read_csv(filepath_or_buffer,\n",
    "                     index_col=index_col,\n",
    "                     converters={geo_col: shapely.wkt.loads},\n",
    "                     dtype='object') \\\n",
    "           .rename(columns={geo_col: 'geometry'})\n",
    "    return gpd.GeoDataFrame(df)\n",
    "\n",
    "def get_random_numbers(minimum, maximum):\n",
    "    return (random.uniform(minimum, maximum) for _ in count())"
   ]
  },
  {
   "cell_type": "markdown",
   "metadata": {},
   "source": [
    "## Loading Data"
   ]
  },
  {
   "cell_type": "code",
   "execution_count": null,
   "metadata": {},
   "outputs": [],
   "source": [
    "borough_areas = load_geocsv('https://data.cityofnewyork.us/api/views/jbrz-qt9e/rows.csv?accessType=DOWNLOAD', 'BoroCode', 'the_geom')\n",
    "borough_land = load_geocsv('https://data.cityofnewyork.us/api/views/7t3b-ywvw/rows.csv?accessType=DOWNLOAD', 'BoroCode', 'the_geom')\n",
    "nta_areas = load_geocsv('https://data.cityofnewyork.us/resource/9nt8-h7nd.csv', 'nta2020', 'the_geom')"
   ]
  },
  {
   "cell_type": "markdown",
   "metadata": {},
   "source": [
    "## Generating Boundaries and Visualizing H3 Cells of New York City"
   ]
  },
  {
   "cell_type": "markdown",
   "metadata": {},
   "source": [
    "`nyc_area` is used to test whether points or polygons fall within New York City’s boundaries. This includes water. `nyc_land`, however, is used to test whether points or polygons falll within a land mass in New York City. It’s used to exclude points and polygons that are partly or entirely in water.\n",
    "\n",
    "`h3_polygons` is used to uniformly group areas within New York City. Each polygon is uniform in size. However, they may cross state, city, borough, or neighborhood boundaries."
   ]
  },
  {
   "cell_type": "code",
   "execution_count": null,
   "metadata": {},
   "outputs": [],
   "source": [
    "nyc_area, nyc_land = (gdf.get(['geometry']) \\\n",
    "                         .dissolve() \\\n",
    "                         .explode(index_parts=False) \\\n",
    "                         .exterior \\\n",
    "                         .apply(Polygon) \\\n",
    "                         .agg(compose(gpd.GeoSeries.to_list, MultiPolygon))\n",
    "                      for gdf in (borough_areas, borough_land))\n",
    "h3_polygons = gpd.GeoDataFrame.from_records(({'h3_index': h3.string_to_h3(h3_index),\n",
    "                                              'contains_only_water': polygon.disjoint(nyc_land),\n",
    "                                              'geometry': polygon}\n",
    "                                             for h3_index in h3.h3_to_children(h3.geo_to_h3(*reversed(nyc_area.centroid.coords[0]), 3), 9)\n",
    "                                             if (polygon := Polygon(h3.h3_to_geo_boundary(h3_index, True))).intersects(nyc_area)),\n",
    "                                            'h3_index')\n",
    "for name, obj in {'NYC Area': nyc_area,\n",
    "                  'NYC Land': nyc_land,\n",
    "                  'Boroughs Areas': borough_areas,\n",
    "                  'Boroughs Land': borough_land,\n",
    "                  'Neighborhood Areas': nta_areas,\n",
    "                  'H3 Polygons': h3_polygons}.items():\n",
    "    display_html(f'<h1>{escape(name)}</h1>')\n",
    "    display(obj)"
   ]
  },
  {
   "cell_type": "code",
   "execution_count": null,
   "metadata": {},
   "outputs": [],
   "source": [
    "boro_nta2020_h3_relationships = h3_polygons.sjoin(borough_areas, how='left', lsuffix='h3', rsuffix='boro') \\\n",
    "                                           .sjoin(nta_areas, how='left', lsuffix='', rsuffix='nta') \\\n",
    "                                           .pipe(lambda df: df.assign(borocode=np.where(df.borocode.isna(), df.index_boro, df.borocode))) \\\n",
    "                                           .get(['borocode', 'index_nta']) \\\n",
    "                                           .rename(columns={'borocode': 'boro_code', 'index_nta': 'nta2020_code'})"
   ]
  },
  {
   "cell_type": "markdown",
   "metadata": {},
   "source": [
    "### Visualization"
   ]
  },
  {
   "cell_type": "markdown",
   "metadata": {},
   "source": [
    "Visualization with Altair will fail. There are too many polygons generated by the H3 library for resolution 9."
   ]
  },
  {
   "cell_type": "code",
   "execution_count": null,
   "metadata": {},
   "outputs": [],
   "source": [
    "alt.layer(alt.Chart(borough_areas) \\\n",
    "             .mark_geoshape(color='#c6dbef') \\\n",
    "             .encode(),\n",
    "          alt.Chart(nta_areas) \\\n",
    "             .mark_geoshape() \\\n",
    "             .encode(color=alt.Color('borocode',\n",
    "                                     scale=alt.Scale(scheme='dark2'),\n",
    "                                     legend=None)),\n",
    "          alt.Chart(h3_polygons.assign(h3_index=h3_polygons.index.map(h3.h3_to_string))) \\\n",
    "             .mark_geoshape() \\\n",
    "             .encode(color=alt.Color(value='transparent'),\n",
    "                     stroke=alt.Color(value='black'))) \\\n",
    "   .properties(width=800,\n",
    "               height=800)"
   ]
  },
  {
   "cell_type": "markdown",
   "metadata": {},
   "source": [
    "However, visualization with Folium will succeed."
   ]
  },
  {
   "cell_type": "code",
   "execution_count": null,
   "metadata": {},
   "outputs": [],
   "source": [
    "do(juxt(folium.Choropleth(geo_data=borough_areas.to_json(),\n",
    "                          name='Borough Boundaries',\n",
    "                          fill_color='none',\n",
    "                          line_color='black',\n",
    "                          line_opacity=0.5) \\\n",
    "              .add_to,\n",
    "        folium.Choropleth(geo_data=h3_polygons.to_json(),\n",
    "                          name='H3 Tiles',\n",
    "                          fill_color='gray',\n",
    "                          fill_opacity=0.5,\n",
    "                          line_color='#808080',\n",
    "                          line_opacity=0.5) \\\n",
    "              .add_to,\n",
    "        lambda map: [folium.CircleMarker(location := attributes.geometry.representative_point().coords[0][::-1],\n",
    "                                         tooltip=f'<strong>{attributes.ntaname}</strong>, {attributes.boroname}<br />'\n",
    "                                                 f'<em>({location[0]:.6}, {location[1]:.6})</em><br />'\n",
    "                                                 f'{len(boro_nta2020_h3_relationships.get(boro_nta2020_h3_relationships.nta2020_code == nta2020_code)):,} hexagon(s)',\n",
    "                                         radius=3,\n",
    "                                         color='black',\n",
    "                                         fill=True,\n",
    "                                         fill_opacity=0.75,\n",
    "                                         stroke=False)\n",
    "                           .add_to(map)\n",
    "                     for nta2020_code, attributes in nta_areas.iterrows()]),\n",
    "   folium.Map(location=nyc_area.representative_point().coords[0][::-1],\n",
    "              tiles='OpenStreetMap',\n",
    "              zoom_start=11))"
   ]
  },
  {
   "cell_type": "markdown",
   "metadata": {},
   "source": [
    "## Saving the Geography Data"
   ]
  },
  {
   "cell_type": "markdown",
   "metadata": {},
   "source": [
    "### Borough Boundaries"
   ]
  },
  {
   "cell_type": "code",
   "execution_count": null,
   "metadata": {},
   "outputs": [],
   "source": [
    "borough_areas.reset_index() \\\n",
    "             .rename(columns={'BoroCode': 'boro_code',\n",
    "                              'BoroName': 'boro_name'}) \\\n",
    "             .get(['boro_code', 'boro_name', 'geometry']) \\\n",
    "             .sort_values('boro_code') \\\n",
    "             .to_csv('boro.csv', index=False)"
   ]
  },
  {
   "cell_type": "markdown",
   "metadata": {},
   "source": [
    "### Neighborhood Boundaries"
   ]
  },
  {
   "cell_type": "code",
   "execution_count": null,
   "metadata": {},
   "outputs": [],
   "source": [
    "nta_areas.reset_index() \\\n",
    "         .rename(columns={'nta2020': 'nta2020_code',\n",
    "                          'borocode': 'boro_code',\n",
    "                          'ntaname': 'nta2020_name'}) \\\n",
    "         .get(['nta2020_code', 'nta2020_name', 'boro_code', 'geometry']) \\\n",
    "         .sort_values('nta2020_code') \\\n",
    "         .to_csv('nta2020.csv', index=False)"
   ]
  },
  {
   "cell_type": "markdown",
   "metadata": {},
   "source": [
    "### H3 Cells"
   ]
  },
  {
   "cell_type": "code",
   "execution_count": null,
   "metadata": {},
   "outputs": [],
   "source": [
    "h3_polygons.sort_index() \\\n",
    "           .to_csv('h3_cell.csv')"
   ]
  },
  {
   "cell_type": "markdown",
   "metadata": {},
   "source": [
    "### Relationships between Boroughts, Neighborhoods, and H3 Cells"
   ]
  },
  {
   "cell_type": "code",
   "execution_count": null,
   "metadata": {},
   "outputs": [],
   "source": [
    "boro_nta2020_h3_relationships.sort_index() \\\n",
    "                             .sort_values(['boro_code', 'nta2020_code']) \\\n",
    "                             .to_csv('boro_nta2020_h3.csv')"
   ]
  }
 ],
 "metadata": {
  "interpreter": {
   "hash": "b89b5cfaba6639976dc87ff2fec6d58faec662063367e2c229c520fe71072417"
  },
  "kernelspec": {
   "display_name": "Python 3.10.4 64-bit",
   "language": "python",
   "name": "python3"
  },
  "language_info": {
   "codemirror_mode": {
    "name": "ipython",
    "version": 3
   },
   "file_extension": ".py",
   "mimetype": "text/x-python",
   "name": "python",
   "nbconvert_exporter": "python",
   "pygments_lexer": "ipython3",
   "version": "3.10.4"
  },
  "orig_nbformat": 4
 },
 "nbformat": 4,
 "nbformat_minor": 2
}
