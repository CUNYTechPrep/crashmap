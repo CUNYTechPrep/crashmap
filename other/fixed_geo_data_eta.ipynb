{
 "cells": [
  {
   "cell_type": "markdown",
   "metadata": {},
   "source": [
    "# New York City H3 Cells"
   ]
  },
  {
   "cell_type": "markdown",
   "metadata": {},
   "source": [
    "## Packages and Utility Functions"
   ]
  },
  {
   "cell_type": "code",
   "execution_count": null,
   "metadata": {},
   "outputs": [],
   "source": [
    "from toolz import compose_left as compose, do, juxt\n",
    "import h3\n",
    "import numpy as np\n",
    "import pandas as pd\n",
    "import shapely\n",
    "from shapely.geometry import Polygon, mapping, MultiPolygon\n",
    "import geopandas as gpd\n",
    "import h3pandas\n",
    "import folium\n",
    "import fiona\n",
    "\n",
    "def load_geocsv(filepath_or_buffer, index_col, geo_col):\n",
    "    df = pd.read_csv(filepath_or_buffer,\n",
    "                     index_col=index_col,\n",
    "                     converters={geo_col: shapely.wkt.loads},\n",
    "                     dtype='object') \\\n",
    "           .rename(columns={geo_col: 'geometry'})\n",
    "    return gpd.GeoDataFrame(df)"
   ]
  },
  {
   "cell_type": "markdown",
   "metadata": {},
   "source": [
    "## Loading Data"
   ]
  },
  {
   "cell_type": "code",
   "execution_count": null,
   "metadata": {},
   "outputs": [],
   "source": [
    "borough_areas = load_geocsv('https://data.cityofnewyork.us/api/views/jbrz-qt9e/rows.csv?accessType=DOWNLOAD', 'BoroCode', 'the_geom')\n",
    "borough_land = load_geocsv('https://data.cityofnewyork.us/api/views/7t3b-ywvw/rows.csv?accessType=DOWNLOAD', 'BoroCode', 'the_geom')\n",
    "nta_areas = load_geocsv('https://data.cityofnewyork.us/resource/9nt8-h7nd.csv', 'nta2020', 'the_geom')"
   ]
  },
  {
   "cell_type": "markdown",
   "metadata": {},
   "source": [
    "## Deriving Additional `GeoDataFrame`s and Visualizing H3 Cells of New York City"
   ]
  },
  {
   "cell_type": "markdown",
   "metadata": {},
   "source": [
    "### Deriving Additional `GeoataFrame`s"
   ]
  },
  {
   "cell_type": "markdown",
   "metadata": {},
   "source": [
    "`nyc_area` is used to test whether points or polygons fall within New York City’s boundaries. This includes water. `nyc_land`, however, is used to test whether points or polygons falll within a land mass in New York City. It’s used to exclude points and polygons that are partly or entirely in water.\n",
    "\n",
    "`h3_polygons` is used to uniformly group areas within New York City. Each polygon is uniform in size. However, they may cross state, city, borough, or neighborhood boundaries.\n",
    "\n",
    "`boro_nta2020_h3_relationships` ties together the boroughs, neighborhoods, and H3 cells by defining how they are related. This is necessary because of how they are related. While bnoroughs-to-neighborhoods is a one-to-many relationship, neighborhoods-to-H3 cells is many-to-many."
   ]
  },
  {
   "cell_type": "code",
   "execution_count": null,
   "metadata": {},
   "outputs": [],
   "source": [
    "nyc_area, nyc_land = (gdf.get(['geometry']) \\\n",
    "                         .dissolve() \\\n",
    "                         .explode(index_parts=False) \\\n",
    "                         .exterior \\\n",
    "                         .apply(Polygon) \\\n",
    "                         .agg(compose(gpd.GeoSeries.to_list, MultiPolygon))\n",
    "                      for gdf in (borough_areas, borough_land))\n",
    "h3_polygons = gpd.GeoDataFrame.from_records(({'h3_index': h3.string_to_h3(h3_index),\n",
    "                                              'only_water': polygon.disjoint(nyc_land),\n",
    "                                              'geometry': polygon}\n",
    "                                             for h3_index in h3.h3_to_children(h3.geo_to_h3(*reversed(nyc_area.centroid.coords[0]), 3), 9)\n",
    "                                             if (polygon := Polygon(h3.h3_to_geo_boundary(h3_index, True))).intersects(nyc_area)),\n",
    "                                            'h3_index')\n",
    "nta2020_h3_relationships = h3_polygons.reset_index() \\\n",
    "                                      .sjoin(borough_areas, how='left', lsuffix='h3', rsuffix='boro') \\\n",
    "                                      .sjoin(nta_areas, how='left', lsuffix='', rsuffix='nta') \\\n",
    "                                      .pipe(lambda df: df.assign(borocode=np.where(df.borocode.isna(), df.index_boro, df.borocode))) \\\n",
    "                                      .join(pd.DataFrame.from_dict({1: 'MN', 2: 'BX', 3: 'BK', 4: 'QN', 5: 'SI'}, orient='index', columns=['boro_abbrev']), 'borocode', 'left') \\\n",
    "                                      .pipe(lambda df: df.assign(index_nta=np.where(df.index_nta.isna(), df.boro_abbrev, df.index_nta))) \\\n",
    "                                      .get(['h3_index', 'index_nta']) \\\n",
    "                                      .drop_duplicates() \\\n",
    "                                      .rename(columns={'index_nta': 'nta2020_id'})"
   ]
  },
  {
   "cell_type": "markdown",
   "metadata": {},
   "source": [
    "### Visualization"
   ]
  },
  {
   "cell_type": "code",
   "execution_count": null,
   "metadata": {},
   "outputs": [],
   "source": [
    "do(juxt(folium.Choropleth(geo_data=borough_areas.to_json(),\n",
    "                          name='Borough Boundaries',\n",
    "                          fill_color='none',\n",
    "                          line_color='black',\n",
    "                          line_opacity=0.5) \\\n",
    "              .add_to,\n",
    "        folium.Choropleth(geo_data=h3_polygons.to_json(),\n",
    "                          name='H3 Tiles',\n",
    "                          fill_color='gray',\n",
    "                          fill_opacity=0.5,\n",
    "                          line_color='#808080',\n",
    "                          line_opacity=0.5) \\\n",
    "              .add_to,\n",
    "        lambda map: [folium.CircleMarker(location := attributes.geometry.representative_point().coords[0][::-1],\n",
    "                                         tooltip=f'<strong>{attributes.ntaname}</strong>, {attributes.boroname}<br />'\n",
    "                                                 f'<em>({location[0]:.6}, {location[1]:.6})</em><br />'\n",
    "                                                 f'{len(nta2020_h3_relationships.get(nta2020_h3_relationships.nta2020_id == nta2020_id)):,} hexagon(s)',\n",
    "                                         radius=3,\n",
    "                                         color='black',\n",
    "                                         fill=True,\n",
    "                                         fill_opacity=0.75,\n",
    "                                         stroke=False)\n",
    "                           .add_to(map)\n",
    "                     for nta2020_id, attributes in nta_areas.iterrows()]),\n",
    "   folium.Map(location=nyc_area.representative_point().coords[0][::-1],\n",
    "              tiles='OpenStreetMap',\n",
    "              zoom_start=11))"
   ]
  },
  {
   "cell_type": "markdown",
   "metadata": {},
   "source": [
    "## Saving the Geography Data\n",
    "\n",
    "Geography data is used by two functions in this project.\n",
    "\n",
    "1. When data is ingested periodically from NYC OpenData, individual collisions are tagged with borough, neighborhood, and H3 identifiers/indices. The tagging shifts the expensive geospatial joins to the relatively infrequent ingestion process to enable inespensive queries.\n",
    "2. When requested, the API supplies geometry for the requested borough, neighborhood, or H3 index."
   ]
  },
  {
   "cell_type": "markdown",
   "metadata": {},
   "source": [
    "### New York City Boundaries\n",
    "\n",
    "This includes all of the areas belonging to New York City including water."
   ]
  },
  {
   "cell_type": "code",
   "execution_count": null,
   "metadata": {},
   "outputs": [],
   "source": [
    "with fiona.open('nyc_area.gpkg', 'w', 'GPKG', {'geometry': 'MultiPolygon'}) as file:\n",
    "    file.write({'geometry': mapping(nyc_area)})"
   ]
  },
  {
   "cell_type": "markdown",
   "metadata": {},
   "source": [
    "### Borough Boundaries\n",
    "\n",
    "The CSV version has the addition of one more geometry column containing the shape of just the land masses."
   ]
  },
  {
   "cell_type": "code",
   "execution_count": null,
   "metadata": {},
   "outputs": [],
   "source": [
    "juxt(lambda df: df.join(borough_land.get(['geometry']).rename(columns={'geometry': 'land_geometry'}))\n",
    "                  .to_csv('boro.csv'),\n",
    "     lambda df: df.to_file('boro.shp')) \\\n",
    "(borough_areas.reset_index()\n",
    "              .rename(columns={'BoroCode': 'id',\n",
    "                               'BoroName': 'name'})\n",
    "              .get(['id', 'name', 'geometry'])\n",
    "              .sort_values('id')\n",
    "              .set_index('id'));"
   ]
  },
  {
   "cell_type": "markdown",
   "metadata": {},
   "source": [
    "### Neighborhood Boundaries"
   ]
  },
  {
   "cell_type": "code",
   "execution_count": null,
   "metadata": {},
   "outputs": [],
   "source": [
    "juxt(lambda df: df.to_csv('nta2020.csv'),\n",
    "     lambda df: df.to_file('nta2020.shp')) \\\n",
    "(nta_areas.reset_index()\n",
    "          .rename(columns={'nta2020': 'id',\n",
    "                           'borocode': 'boro_code',\n",
    "                           'ntaname': 'name'})\n",
    "          .get(['id', 'name', 'boro_code', 'geometry'])\n",
    "          .append(gpd.GeoDataFrame(dict(zip(('id', 'name', 'boro_code', 'geometry'),\n",
    "                                   map(list,\n",
    "                                       zip(*([(None, 'MN', 'BX', 'BK', 'QN', 'SI')[borough], None, borough, None]\n",
    "                                             for borough in sorted(borough_areas.index))))))),\n",
    "                  ignore_index=True)\n",
    "          .sort_values('id')\n",
    "          .set_index('id'));"
   ]
  },
  {
   "cell_type": "markdown",
   "metadata": {},
   "source": [
    "### H3 Cells"
   ]
  },
  {
   "cell_type": "code",
   "execution_count": null,
   "metadata": {},
   "outputs": [],
   "source": [
    "juxt(lambda df: df.to_csv('h3.csv'),\n",
    "     lambda df: df.to_file('h3.shp')) \\\n",
    "(h3_polygons.sort_index());"
   ]
  },
  {
   "cell_type": "markdown",
   "metadata": {},
   "source": [
    "### Relationships between Neighborhoods and H3 Cells"
   ]
  },
  {
   "cell_type": "code",
   "execution_count": null,
   "metadata": {},
   "outputs": [],
   "source": [
    "nta2020_h3_relationships.sort_index() \\\n",
    "                        .sort_values(['nta2020_id']) \\\n",
    "                        .get(['h3_index', 'nta2020_id']) \\\n",
    "                        .to_csv('h3_nta2020.csv', index=False)"
   ]
  }
 ],
 "metadata": {
  "interpreter": {
   "hash": "b89b5cfaba6639976dc87ff2fec6d58faec662063367e2c229c520fe71072417"
  },
  "kernelspec": {
   "display_name": "Python 3.10.4 64-bit",
   "language": "python",
   "name": "python3"
  },
  "language_info": {
   "codemirror_mode": {
    "name": "ipython",
    "version": 3
   },
   "file_extension": ".py",
   "mimetype": "text/x-python",
   "name": "python",
   "nbconvert_exporter": "python",
   "pygments_lexer": "ipython3",
   "version": "3.10.4"
  },
  "orig_nbformat": 4
 },
 "nbformat": 4,
 "nbformat_minor": 2
}
