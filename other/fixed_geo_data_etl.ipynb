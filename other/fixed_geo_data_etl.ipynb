{
 "cells": [
  {
   "cell_type": "markdown",
   "metadata": {
    "pycharm": {
     "name": "#%% md\n"
    }
   },
   "source": [
    "# New York City H3 Cells"
   ]
  },
  {
   "cell_type": "markdown",
   "metadata": {
    "pycharm": {
     "name": "#%% md\n"
    }
   },
   "source": [
    "## Packages and Utility Functions"
   ]
  },
  {
   "cell_type": "code",
   "execution_count": null,
   "metadata": {
    "pycharm": {
     "name": "#%%\n"
    }
   },
   "outputs": [],
   "source": [
    "from IPython.display import display\n",
    "from math import log10\n",
    "from toolz import compose_left as compose, do, juxt\n",
    "import h3\n",
    "import numpy as np\n",
    "import pandas as pd\n",
    "import shapely\n",
    "from shapely.geometry import Polygon, mapping, MultiPolygon\n",
    "from shapely.ops import orient\n",
    "import geopandas as gpd\n",
    "import h3pandas\n",
    "import folium\n",
    "import fiona\n",
    "\n",
    "def load_geocsv(filepath_or_buffer, index_col, geo_col):\n",
    "    df = pd.read_csv(filepath_or_buffer,\n",
    "                     index_col=index_col,\n",
    "                     converters={geo_col: compose(shapely.wkt.loads, orient)},\n",
    "                     dtype='object') \\\n",
    "           .rename(columns={geo_col: 'geometry'})\n",
    "    return gpd.GeoDataFrame(df)"
   ]
  },
  {
   "cell_type": "markdown",
   "metadata": {
    "pycharm": {
     "name": "#%% md\n"
    }
   },
   "source": [
    "## Loading Data"
   ]
  },
  {
   "cell_type": "code",
   "execution_count": null,
   "metadata": {
    "pycharm": {
     "name": "#%%\n"
    }
   },
   "outputs": [],
   "source": [
    "borough_areas = load_geocsv('https://data.cityofnewyork.us/api/views/jbrz-qt9e/rows.csv?accessType=DOWNLOAD', 'BoroCode', 'the_geom')\n",
    "borough_land = load_geocsv('https://data.cityofnewyork.us/api/views/7t3b-ywvw/rows.csv?accessType=DOWNLOAD', 'BoroCode', 'the_geom')\n",
    "nta_areas = load_geocsv('https://data.cityofnewyork.us/resource/9nt8-h7nd.csv', 'nta2020', 'the_geom')"
   ]
  },
  {
   "cell_type": "markdown",
   "metadata": {
    "pycharm": {
     "name": "#%% md\n"
    }
   },
   "source": [
    "## Deriving Additional `GeoDataFrame`s and Visualizing H3 Cells of New York City"
   ]
  },
  {
   "cell_type": "markdown",
   "metadata": {
    "pycharm": {
     "name": "#%% md\n"
    }
   },
   "source": [
    "### Deriving Additional `GeoataFrame`s"
   ]
  },
  {
   "cell_type": "markdown",
   "metadata": {
    "pycharm": {
     "name": "#%% md\n"
    }
   },
   "source": [
    "`nyc_area` is used to test whether points or polygons fall within New York City’s boundaries. This includes water. `nyc_land`, however, is used to test whether points or polygons falll within a land mass in New York City. It’s used to exclude points and polygons that are partly or entirely in water.\n",
    "\n",
    "`h3_polygons` is used to uniformly group areas within New York City. Each polygon is uniform in size. However, they may cross state, city, borough, or neighborhood boundaries."
   ]
  },
  {
   "cell_type": "code",
   "execution_count": null,
   "metadata": {
    "pycharm": {
     "name": "#%%\n"
    }
   },
   "outputs": [],
   "source": [
    "nyc_area, nyc_land = (gdf.get(['geometry']) \\\n",
    "                         .dissolve() \\\n",
    "                         .explode(index_parts=False) \\\n",
    "                         .exterior \\\n",
    "                         .apply(Polygon) \\\n",
    "                         .agg(compose(gpd.GeoSeries.to_list, MultiPolygon))\n",
    "                      for gdf in (borough_areas, borough_land))\n",
    "h3_polygons = gpd.GeoDataFrame.from_records(({'h3_index': h3.string_to_h3(h3_index),\n",
    "                                              'only_water': polygon.disjoint(nyc_land),\n",
    "                                              'centroid': '{{{!r}, {!r}}}'.format(*reversed(h3.h3_to_geo(h3_index))),\n",
    "                                              'geometry': polygon}\n",
    "                                             for h3_index in h3.h3_to_children(h3.geo_to_h3(*reversed(nyc_area.centroid.coords[0]), 3), 9)\n",
    "                                             if (polygon := Polygon(h3.h3_to_geo_boundary(h3_index, True))).intersects(nyc_area)),\n",
    "                                            'h3_index')"
   ]
  },
  {
   "cell_type": "markdown",
   "metadata": {
    "pycharm": {
     "name": "#%% md\n"
    }
   },
   "source": [
    "#### Areas Within Boroughs But Not Any Neighborhoods—Water\n",
    "\n",
    "Non-NTA areas within boroughs require special handling. Every part of the borough must be completely subdividable into a areas identified by an `nta2020` code. Since the river and ocean are not a part of any neighborhoods, we assign those areas a two-letter code representing the borough. Deriving the geometry from the shapes is tricky, however. Merely subtracting the boroughs land boundaries from the borough areas will yield imperfect polygons pocked with microscopic holes and mismatched boundaries where different boroughs interface.\n",
    "\n",
    "As seen below, subtracting the entire shape of New York City’s shoreline yields much better results, though both Ellis Island and Liberty Island exhibit obvious artifacts from the operation and less obvious at the land border separating the Bronx and Queens from Westchester and Long Island respectively."
   ]
  },
  {
   "cell_type": "code",
   "execution_count": null,
   "metadata": {
    "pycharm": {
     "name": "#%%\n"
    }
   },
   "outputs": [],
   "source": [
    "borough_water = borough_areas.assign(geometry=borough_areas.geometry.difference(nyc_land)) \\\n",
    "                             .reset_index() \\\n",
    "                             .get(['BoroCode', 'BoroName', 'geometry']) \\\n",
    "                             .explode(ignore_index=True) \\\n",
    "                             .pipe(lambda df: df.assign(area=df.geometry.area)) #\\\n",
    "                             #.query('area >= 10e-11') \\\n",
    "                             #.dissolve('BoroCode')\n",
    "\n",
    "display(borough_water.sort_values('area'))\n",
    "\n",
    "do(juxt(folium.Choropleth(geo_data=borough_water.to_json(),\n",
    "                          name='Water',\n",
    "                          fill_color='#0080ff',\n",
    "                          line_color='orange',\n",
    "                          line_opacity=1) \\\n",
    "              .add_to,\n",
    "        lambda map: [folium.CircleMarker(location := attributes.geometry.representative_point().coords[0][::-1],\n",
    "                                         tooltip=f'<strong>{attributes.BoroName}</strong><br />'\n",
    "                                                 f'Location: {location[0]:.6f}, {location[1]:.6f}<br />'\n",
    "                                                 f'Log(area): {log10(attributes.area):,.2f}',\n",
    "                                         radius=max(3, abs(log10(attributes.area))),\n",
    "                                         color='green' if attributes.area >= 10e-6 else 'orange' if attributes.area >= 10e-12 else 'red',\n",
    "                                         fill=True,\n",
    "                                         fill_opacity=1,\n",
    "                                         stroke=False)\n",
    "                           .add_to(map)\n",
    "                     for boro_id, attributes in borough_water.sort_values('area').iterrows()]),\n",
    "   folium.Map(location=nyc_area.representative_point().coords[0][::-1],\n",
    "              tiles='Stamen Toner',\n",
    "              zoom_start=11))"
   ]
  },
  {
   "cell_type": "markdown",
   "metadata": {
    "pycharm": {
     "name": "#%% md\n"
    }
   },
   "source": [
    "Filtering out the polygons with areas less than 10⁻¹¹ will leave us with only the ones that matter. And those can be added to the `nta_areas` data frame."
   ]
  },
  {
   "cell_type": "code",
   "execution_count": null,
   "metadata": {
    "pycharm": {
     "name": "#%%\n"
    }
   },
   "outputs": [],
   "source": [
    "nta_areas = borough_water.query('area >= 10e-11') \\\n",
    "                             .dissolve('BoroCode') \\\n",
    "                             .get(['BoroName', 'geometry']) \\\n",
    "                             .join(pd.DataFrame.from_dict({1: 'MN', 2: 'BX', 3: 'BK', 4: 'QN', 5: 'SI'}, orient='index', columns=['nta2020'])) \\\n",
    "                             .reset_index() \\\n",
    "                             .set_index('nta2020') \\\n",
    "                             .rename(columns={'BoroCode': 'borocode', 'BoroName': 'boroname'}) \\\n",
    "                             .pipe(nta_areas.append)"
   ]
  },
  {
   "cell_type": "markdown",
   "metadata": {
    "pycharm": {
     "name": "#%% md\n"
    }
   },
   "source": [
    "With the `nta_areas` data frame complete, the relationships between the H3 cells and the neighborhoods can be defined.neighborhoods-to-H3 cells is many-to-many."
   ]
  },
  {
   "cell_type": "code",
   "execution_count": null,
   "metadata": {
    "pycharm": {
     "name": "#%%\n"
    }
   },
   "outputs": [],
   "source": [
    "nta2020_h3_relationships = h3_polygons.reset_index() \\\n",
    "                                      .sjoin(borough_areas, how='left', lsuffix='h3', rsuffix='boro') \\\n",
    "                                      .sjoin(nta_areas, how='left', lsuffix='', rsuffix='nta') \\\n",
    "                                      .pipe(lambda df: df.assign(borocode=np.where(df.borocode.isna(), df.index_boro, df.borocode))) \\\n",
    "                                      .join(pd.DataFrame.from_dict({1: 'MN', 2: 'BX', 3: 'BK', 4: 'QN', 5: 'SI'}, orient='index', columns=['boro_abbrev']), 'borocode', 'left') \\\n",
    "                                      .pipe(lambda df: df.assign(index_nta=np.where(df.index_nta.isna(), df.boro_abbrev, df.index_nta))) \\\n",
    "                                      .get(['h3_index', 'index_nta']) \\\n",
    "                                      .drop_duplicates() \\\n",
    "                                      .rename(columns={'index_nta': 'nta2020_id'})"
   ]
  },
  {
   "cell_type": "markdown",
   "metadata": {
    "pycharm": {
     "name": "#%% md\n"
    }
   },
   "source": [
    "### Visualization"
   ]
  },
  {
   "cell_type": "code",
   "execution_count": null,
   "metadata": {
    "pycharm": {
     "name": "#%%\n"
    }
   },
   "outputs": [],
   "source": [
    "do(juxt(folium.Choropleth(geo_data=borough_areas.to_json(),\n",
    "                          name='Borough Boundaries',\n",
    "                          fill_color='none',\n",
    "                          line_color='black',\n",
    "                          line_opacity=0.5) \\\n",
    "              .add_to,\n",
    "        folium.Choropleth(geo_data=h3_polygons.to_json(),\n",
    "                          name='H3 Tiles',\n",
    "                          fill_color='gray',\n",
    "                          fill_opacity=0.5,\n",
    "                          line_color='#808080',\n",
    "                          line_opacity=0.5) \\\n",
    "              .add_to,\n",
    "        lambda map: [folium.CircleMarker(location := attributes.geometry.representative_point().coords[0][::-1],\n",
    "                                         tooltip=f'<strong>{attributes.ntaname if type(attributes.ntaname) is str else \"🌊\"}</strong>, {attributes.boroname}<br />'\n",
    "                                                 f'<em>({location[0]:.6}, {location[1]:.6})</em><br />'\n",
    "                                                 f'{len(nta2020_h3_relationships.get(nta2020_h3_relationships.nta2020_id == nta2020_id)):,} hexagon(s)',\n",
    "                                         radius=3,\n",
    "                                         color='black',\n",
    "                                         fill=True,\n",
    "                                         fill_opacity=0.75,\n",
    "                                         stroke=False)\n",
    "                           .add_to(map)\n",
    "                     for nta2020_id, attributes in nta_areas.iterrows()]),\n",
    "   folium.Map(location=nyc_area.representative_point().coords[0][::-1],\n",
    "              tiles='OpenStreetMap',\n",
    "              zoom_start=11))"
   ]
  },
  {
   "cell_type": "markdown",
   "metadata": {},
   "source": [
    "### Bounding Boxes, Centroids, and Representative Points\n",
    "\n",
    "Bounding boxes, centroids, and representative points can be added to aid the client.\n",
    "\n",
    "* Bounding boxes, represented by 2 longitude-latitude pairs, defines how large of an area is needed for the entire polygon to be visible.\n",
    "* Centroids represent the geometric center of the polygon.\n",
    "* Representative points are the best spots to use for labels and other textual information to be drawn on top of the polygons."
   ]
  },
  {
   "cell_type": "code",
   "execution_count": null,
   "metadata": {},
   "outputs": [],
   "source": [
    "borough_areas['bounds'] = borough_areas.geometry.bounds.agg('{{{{{minx!r}, {miny!r}}}, {{{maxx!r}, {maxy!r}}}}}'.format_map, axis=1)\n",
    "borough_areas['centroid'] = borough_areas.geometry.centroid.map(lambda point: f'{{{point.x}, {point.y}}}')\n",
    "borough_areas['representative_point'] = borough_areas.geometry.representative_point().map(lambda point: f'{{{point.x!r}, {point.y!r}}}')\n",
    "display(borough_areas)\n",
    "\n",
    "nta_areas['bounds'] = nta_areas.geometry.bounds.agg('{{{{{minx!r}, {miny!r}}}, {{{maxx!r}, {maxy!r}}}}}'.format_map, axis=1)\n",
    "nta_areas['centroid'] = nta_areas.geometry.centroid.map(lambda point: f'{{{point.x!r}, {point.y!r}}}')\n",
    "nta_areas['representative_point'] = nta_areas.geometry.representative_point().map(lambda point: f'{{{point.x!r}, {point.y!r}}}')\n",
    "display(nta_areas)"
   ]
  },
  {
   "cell_type": "markdown",
   "metadata": {
    "pycharm": {
     "name": "#%% md\n"
    }
   },
   "source": [
    "## Saving the Geography Data\n",
    "\n",
    "Geography data is used by two functions in this project.\n",
    "\n",
    "1. When data is ingested periodically from NYC OpenData, individual collisions are tagged with borough, neighborhood, and H3 identifiers/indices. The tagging shifts the expensive geospatial joins to the relatively infrequent ingestion process to enable inexpensive queries.\n",
    "2. When requested, the API supplies geometry for the requested borough, neighborhood, or H3 index."
   ]
  },
  {
   "cell_type": "markdown",
   "metadata": {
    "pycharm": {
     "name": "#%% md\n"
    }
   },
   "source": [
    "### New York City Boundaries\n",
    "\n",
    "This includes all of the areas belonging to New York City including water."
   ]
  },
  {
   "cell_type": "code",
   "execution_count": null,
   "metadata": {
    "pycharm": {
     "name": "#%%\n"
    }
   },
   "outputs": [],
   "source": [
    "with fiona.open('nyc_area.gpkg', 'w', 'GPKG', {'geometry': 'MultiPolygon'}) as file:\n",
    "    file.write({'geometry': mapping(nyc_area)})"
   ]
  },
  {
   "cell_type": "markdown",
   "metadata": {
    "pycharm": {
     "name": "#%% md\n"
    }
   },
   "source": [
    "### Borough Boundaries\n",
    "\n",
    "The CSV version has the addition of one more geometry column containing the shape of just the land masses."
   ]
  },
  {
   "cell_type": "code",
   "execution_count": null,
   "metadata": {
    "pycharm": {
     "name": "#%%\n"
    }
   },
   "outputs": [],
   "source": [
    "borough_areas.reset_index() \\\n",
    "             .rename(columns={'BoroCode': 'id', 'BoroName': 'name'}) \\\n",
    "             .get(['id', 'name', 'representative_point', 'centroid', 'bounds', 'geometry']) \\\n",
    "             .sort_values('id') \\\n",
    "             .set_index('id') \\\n",
    "             .join(borough_land.get(['geometry']).rename(columns={'geometry': 'land_geometry'})) \\\n",
    "             .to_csv('boro.csv')"
   ]
  },
  {
   "cell_type": "markdown",
   "metadata": {
    "pycharm": {
     "name": "#%% md\n"
    }
   },
   "source": [
    "### Neighborhood Boundaries"
   ]
  },
  {
   "cell_type": "code",
   "execution_count": null,
   "metadata": {
    "pycharm": {
     "name": "#%%\n"
    }
   },
   "outputs": [],
   "source": [
    "nta_areas.reset_index() \\\n",
    "         .rename(columns={'nta2020': 'id', 'borocode': 'boro_code', 'ntaname': 'name'}) \\\n",
    "         .get(['id', 'name', 'boro_code', 'representative_point', 'centroid', 'bounds', 'geometry']) \\\n",
    "         .sort_values('id') \\\n",
    "         .set_index('id') \\\n",
    "         .to_csv('nta2020.csv')"
   ]
  },
  {
   "cell_type": "markdown",
   "metadata": {
    "pycharm": {
     "name": "#%% md\n"
    }
   },
   "source": [
    "### H3 Cells"
   ]
  },
  {
   "cell_type": "code",
   "execution_count": null,
   "metadata": {
    "pycharm": {
     "name": "#%%\n"
    }
   },
   "outputs": [],
   "source": [
    "h3_polygons.sort_index() \\\n",
    "           .to_csv('h3.csv')"
   ]
  },
  {
   "cell_type": "markdown",
   "metadata": {
    "pycharm": {
     "name": "#%% md\n"
    }
   },
   "source": [
    "### Relationships between Neighborhoods and H3 Cells"
   ]
  },
  {
   "cell_type": "code",
   "execution_count": null,
   "metadata": {
    "pycharm": {
     "name": "#%%\n"
    }
   },
   "outputs": [],
   "source": [
    "nta2020_h3_relationships.sort_index() \\\n",
    "                        .sort_values(['nta2020_id']) \\\n",
    "                        .get(['h3_index', 'nta2020_id']) \\\n",
    "                        .to_csv('h3_nta2020.csv', index=False)"
   ]
  }
 ],
 "metadata": {
  "interpreter": {
   "hash": "26de051ba29f2982a8de78e945f0abaf191376122a1563185a90213a26c5da77"
  },
  "kernelspec": {
   "display_name": "Python 3.10.4 64-bit",
   "language": "python",
   "name": "python3"
  },
  "language_info": {
   "codemirror_mode": {
    "name": "ipython",
    "version": 3
   },
   "file_extension": ".py",
   "mimetype": "text/x-python",
   "name": "python",
   "nbconvert_exporter": "python",
   "pygments_lexer": "ipython3",
   "version": "3.10.4"
  },
  "orig_nbformat": 4
 },
 "nbformat": 4,
 "nbformat_minor": 2
}
